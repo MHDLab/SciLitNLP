{
 "cells": [
  {
   "cell_type": "markdown",
   "metadata": {},
   "source": [
    "Want to test hypothesis that reducing alpha will make there be a more even spread of documents across topics, vs some topics dominating everyhing "
   ]
  },
  {
   "cell_type": "code",
   "execution_count": 1,
   "metadata": {},
   "outputs": [],
   "source": [
    "#%% \n",
    "import pandas as pd\n",
    "import pickle\n",
    "import sqlite3\n",
    "import os\n",
    "import numpy as np\n",
    "import sys\n",
    "import gensim\n",
    "import matplotlib.pyplot as plt\n",
    "\n",
    "from sklearn.feature_extraction.text import TfidfVectorizer\n",
    "from sklearn.decomposition import PCA, TruncatedSVD\n",
    "from sklearn.manifold import TSNE\n",
    "\n",
    "sys.path.append(r'C:\\Users\\aspit\\Git\\MHDLab-Projects\\Energy Storage\\nlp_utils')\n",
    "\n",
    "data_folder = r'C:\\Users\\aspit\\Git\\MHDLab-Projects\\Energy Storage\\data'\n",
    "\n",
    "con = sqlite3.connect(os.path.join(data_folder, 'nlp.db'))\n",
    "cursor = con.cursor()\n",
    "\n",
    "df = pd.read_sql_query(\"SELECT * FROM texts\", con, index_col= 'ID')\n",
    "df = df.dropna(subset=['processed_text'])\n",
    "\n",
    "texts = df['processed_text'].values\n",
    "texts = [t.split() for t in texts]"
   ]
  },
  {
   "cell_type": "code",
   "execution_count": 4,
   "metadata": {},
   "outputs": [
    {
     "name": "stdout",
     "output_type": "stream",
     "text": [
      "0.001\n",
      "0.01\n",
      "0.1\n",
      "1\n",
      "10\n"
     ]
    }
   ],
   "source": [
    "alphas = [0.001,0.01,0.1,1,10]\n",
    "\n",
    "tds = []\n",
    "\n",
    "for alpha in alphas: \n",
    "    print(alpha)\n",
    "    bigram = gensim.models.Phrases(texts, min_count=5, threshold=1)\n",
    "    bigram_mod = gensim.models.phrases.Phraser(bigram)\n",
    "\n",
    "    texts_bigram = [bigram_mod[doc] for doc in texts]\n",
    "\n",
    "    id2word = gensim.corpora.Dictionary(texts_bigram)\n",
    "    data_words = [id2word.doc2bow(doc) for doc in texts_bigram]\n",
    "\n",
    "    lda_model = gensim.models.LdaModel(\n",
    "                                    data_words,\n",
    "                                    num_topics=20,\n",
    "                                    id2word=id2word,\n",
    "                                    passes = 20,\n",
    "                                    alpha=alpha,\n",
    "                                    eta=0.15\n",
    "    )\n",
    "    \n",
    "    doc_topic = list(lda_model.get_document_topics(data_words, minimum_probability=0))\n",
    "    doc_topic = gensim.matutils.corpus2csc(doc_topic).T.toarray()\n",
    "    \n",
    "    probs_gensim = pd.DataFrame(doc_topic)\n",
    "    probs_gensim.index = df.index\n",
    "\n",
    "    top_doc_topics_gensim = probs_gensim.idxmax(axis=1)\n",
    "    top_doc_topics_gensim.name = 'top_doc_topics'    \n",
    "    \n",
    "    tds.append(top_doc_topics_gensim)"
   ]
  },
  {
   "cell_type": "code",
   "execution_count": 5,
   "metadata": {},
   "outputs": [
    {
     "data": {
      "image/png": "[encoded data removed]",
      "text/plain": [
       "<Figure size 1080x360 with 5 Axes>"
      ]
     },
     "metadata": {
      "needs_background": "light"
     },
     "output_type": "display_data"
    }
   ],
   "source": [
    "\n",
    "fig, axes = plt.subplots(1,len(tds), figsize=(15,5))\n",
    "\n",
    "for i, td in enumerate(tds):\n",
    "    \n",
    "    td.hist(ax=axes[i])\n",
    "    axes[i].set_title(str(alphas[i]))\n",
    "\n",
    "\n"
   ]
  },
  {
   "cell_type": "code",
   "execution_count": null,
   "metadata": {},
   "outputs": [],
   "source": []
  }
 ],
 "metadata": {
  "kernelspec": {
   "display_name": "Python 3",
   "language": "python",
   "name": "python3"
  },
  "language_info": {
   "codemirror_mode": {
    "name": "ipython",
    "version": 3
   },
   "file_extension": ".py",
   "mimetype": "text/x-python",
   "name": "python",
   "nbconvert_exporter": "python",
   "pygments_lexer": "ipython3",
   "version": "3.7.7"
  }
 },
 "nbformat": 4,
 "nbformat_minor": 4
}
