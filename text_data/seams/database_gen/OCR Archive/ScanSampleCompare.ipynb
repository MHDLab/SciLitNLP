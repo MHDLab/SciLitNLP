{
 "cells": [
  {
   "cell_type": "code",
   "execution_count": 14,
   "metadata": {},
   "outputs": [],
   "source": [
    "import tika\n",
    "import os\n",
    "import re\n",
    "\n",
    "from tika import parser "
   ]
  },
  {
   "cell_type": "markdown",
   "metadata": {},
   "source": [
    "The table of conents have been cropped and had their title pages removed etc. in the 'Split' folder. "
   ]
  },
  {
   "cell_type": "code",
   "execution_count": 5,
   "metadata": {},
   "outputs": [],
   "source": [
    "def readpdfRaw(filelocation):\n",
    "    \"\"\"Module takes path to text file location and returns a list of sentences from doc using Tika\n",
    "    Args:\n",
    "        filelocation: location of the document file\n",
    "\n",
    "    Returns:\n",
    "        doctext: text from the document\n",
    "    \"\"\"\n",
    "    print(\"Parsing file with Tika...\")\n",
    "    parsed = parser.from_file(filelocation)\n",
    "    try:\n",
    "        doctext = parsed[\"content\"]\n",
    "        docmeta = parsed[\"metadata\"]\n",
    "\n",
    "    except Exception as E:\n",
    "        print(E, \"Document has no text\")\n",
    "        doctext = ''\n",
    "    return doctext, docmeta"
   ]
  },
  {
   "cell_type": "code",
   "execution_count": 27,
   "metadata": {},
   "outputs": [
    {
     "name": "stdout",
     "output_type": "stream",
     "text": [
      "Parsing file with Tika...\n"
     ]
    }
   ],
   "source": [
    "doctext, docmeta = readpdfRaw(\"Scan Snap.pdf\")"
   ]
  },
  {
   "cell_type": "code",
   "execution_count": 28,
   "metadata": {},
   "outputs": [],
   "source": [
    "with open('ScanSnap_Tika.txt', 'wb') as f:\n",
    "    f.write(doctext.encode(\"utf-8\"))"
   ]
  },
  {
   "cell_type": "code",
   "execution_count": 29,
   "metadata": {},
   "outputs": [
    {
     "name": "stdout",
     "output_type": "stream",
     "text": [
      "Parsing file with Tika...\n"
     ]
    }
   ],
   "source": [
    "doctext, docmeta = readpdfRaw(\"Bound \")"
   ]
  },
  {
   "cell_type": "code",
   "execution_count": 30,
   "metadata": {},
   "outputs": [],
   "source": [
    "with open('BBS_Tika.txt', 'wb') as f:\n",
    "    f.write(doctext.encode(\"utf-8\"))"
   ]
  }
 ],
 "metadata": {
  "kernelspec": {
   "display_name": "Python 3",
   "language": "python",
   "name": "python3"
  },
  "language_info": {
   "codemirror_mode": {
    "name": "ipython",
    "version": 3
   },
   "file_extension": ".py",
   "mimetype": "text/x-python",
   "name": "python",
   "nbconvert_exporter": "python",
   "pygments_lexer": "ipython3",
   "version": "3.7.7"
  }
 },
 "nbformat": 4,
 "nbformat_minor": 4
}
